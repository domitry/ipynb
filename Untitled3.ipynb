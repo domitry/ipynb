{
 "cells": [
  {
   "cell_type": "code",
   "execution_count": 1,
   "metadata": {
    "collapsed": false
   },
   "outputs": [
    {
     "name": "stdout",
     "output_type": "stream",
     "text": [
      "A\n"
     ]
    }
   ],
   "source": [
    "puts \"A\""
   ]
  },
  {
   "cell_type": "code",
   "execution_count": 2,
   "metadata": {
    "collapsed": false
   },
   "outputs": [
    {
     "ename": "ArgumentError",
     "evalue": "wrong number of arguments (2 for 0..1)",
     "output_type": "error",
     "traceback": [
      "\u001b[31mArgumentError\u001b[0m: wrong number of arguments (2 for 0..1)",
      "\u001b[37m/var/lib/gems/2.1.0/gems/iruby-0.1.13/lib/iruby/ostream.rb:38:in `puts'\u001b[0m",
      "\u001b[37m<main>:in `puts'\u001b[0m",
      "\u001b[37m<main>:in `<main>'\u001b[0m",
      "\u001b[37m/var/lib/gems/2.1.0/gems/iruby-0.1.13/lib/iruby/backend.rb:8:in `eval'\u001b[0m",
      "\u001b[37m/var/lib/gems/2.1.0/gems/iruby-0.1.13/lib/iruby/backend.rb:8:in `eval'\u001b[0m",
      "\u001b[37m/var/lib/gems/2.1.0/gems/iruby-0.1.13/lib/iruby/kernel.rb:113:in `execute_request'\u001b[0m",
      "\u001b[37m/var/lib/gems/2.1.0/gems/iruby-0.1.13/lib/iruby/kernel.rb:65:in `run'\u001b[0m",
      "\u001b[37m/var/lib/gems/2.1.0/gems/iruby-0.1.13/lib/iruby/command.rb:61:in `run_kernel'\u001b[0m",
      "\u001b[37m/var/lib/gems/2.1.0/gems/iruby-0.1.13/lib/iruby/command.rb:33:in `run'\u001b[0m",
      "\u001b[37m/var/lib/gems/2.1.0/gems/iruby-0.1.13/bin/iruby:6:in `<top (required)>'\u001b[0m",
      "\u001b[37m/usr/local/bin/iruby:23:in `load'\u001b[0m",
      "\u001b[37m/usr/local/bin/iruby:23:in `<main>'\u001b[0m"
     ]
    },
    {
     "name": "stderr",
     "output_type": "stream",
     "text": [
      "/var/lib/gems/2.1.0/gems/ffi-rzmq-2.0.4/lib/ffi-rzmq/socket.rb:321:in `recvmsg': Interrupt\n",
      "\tfrom /var/lib/gems/2.1.0/gems/ffi-rzmq-2.0.4/lib/ffi-rzmq/socket.rb:342:in `recv_string'\n",
      "\tfrom /var/lib/gems/2.1.0/gems/iruby-0.1.13/lib/iruby/session.rb:37:in `recv'\n",
      "\tfrom /var/lib/gems/2.1.0/gems/iruby-0.1.13/lib/iruby/kernel.rb:62:in `run'\n",
      "\tfrom /var/lib/gems/2.1.0/gems/iruby-0.1.13/lib/iruby/command.rb:61:in `run_kernel'\n",
      "\tfrom /var/lib/gems/2.1.0/gems/iruby-0.1.13/lib/iruby/command.rb:33:in `run'\n",
      "\tfrom /var/lib/gems/2.1.0/gems/iruby-0.1.13/bin/iruby:6:in `<top (required)>'\n",
      "\tfrom /usr/local/bin/iruby:23:in `load'\n",
      "\tfrom /usr/local/bin/iruby:23:in `<main>'\n"
     ]
    }
   ],
   "source": [
    "puts \"A\", \"B\""
   ]
  },
  {
   "cell_type": "code",
   "execution_count": null,
   "metadata": {
    "collapsed": true
   },
   "outputs": [],
   "source": []
  }
 ],
 "metadata": {
  "kernelspec": {
   "display_name": "Ruby",
   "language": "ruby",
   "name": "ruby"
  },
  "language_info": {
   "name": "ruby",
   "version": "2.1.2"
  }
 },
 "nbformat": 4,
 "nbformat_minor": 0
}
