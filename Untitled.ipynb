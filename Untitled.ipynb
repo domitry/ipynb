{
 "cells": [
  {
   "cell_type": "code",
   "execution_count": 1,
   "metadata": {
    "collapsed": true
   },
   "outputs": [],
   "source": [
    "%matplotlib inline"
   ]
  },
  {
   "cell_type": "code",
   "execution_count": 2,
   "metadata": {
    "collapsed": false
   },
   "outputs": [],
   "source": [
    "from ipysurfer.mri import MRI\n",
    "import json"
   ]
  },
  {
   "cell_type": "code",
   "execution_count": 4,
   "metadata": {
    "collapsed": true
   },
   "outputs": [],
   "source": [
    "dt3 = MRI.from_mgz(\"/home/naoki/data/brain/testDT3.mgz\", start=10, end=12)"
   ]
  },
  {
   "cell_type": "code",
   "execution_count": 9,
   "metadata": {
    "collapsed": false,
    "scrolled": true
   },
   "outputs": [
    {
     "data": {
      "text/plain": [
       "array([-0.02507085, -0.02507085, -0.02507085, -0.02507085, -0.02507085,\n",
       "       -0.02507085, -0.02507085, -0.02507085, -0.02507085, -0.02507085,\n",
       "       -0.02507085, -0.02507085, -0.02507085, -0.02507085, -0.02507085,\n",
       "       -0.02507085, -0.02507085, -0.02507085, -0.02507085, -0.02507085,\n",
       "       -0.02507085, -0.02507085, -0.02507085, -0.02507085, -0.02507085,\n",
       "       -0.02507085, -0.02507085, -0.02507085, -0.02507085, -0.02507085,\n",
       "       -0.02507085, -0.02507085, -0.02507085, -0.02507085, -0.02507085,\n",
       "       -0.02507085, -0.02507085, -0.02507085, -0.02507085, -0.02507085,\n",
       "       -0.02507085, -0.02507085, -0.02507085, -0.02507085, -0.02507085,\n",
       "       -0.02507085, -0.02507085,  1.68627357,  2.20418048,  2.00152135,\n",
       "        1.43857908,  1.25843751,  0.85311908,  0.53595191,  0.47681525,\n",
       "        0.66352755,  0.27629709,  0.17515203,  0.445512  ,  0.83540028,\n",
       "        0.92067218,  0.53787142,  0.29017684,  0.27098143,  0.2439602 ,\n",
       "       -0.02507085, -0.02507085, -0.02507085, -0.02507085, -0.02507085,\n",
       "       -0.02507085, -0.02507085, -0.02507085, -0.02507085, -0.02507085,\n",
       "       -0.02507085, -0.02507085, -0.02507085, -0.02507085, -0.02507085,\n",
       "       -0.02507085, -0.02507085, -0.02507085, -0.02507085, -0.02507085,\n",
       "       -0.02507085, -0.02507085, -0.02507085, -0.02507085, -0.02507085,\n",
       "       -0.02507085, -0.02507085, -0.02507085, -0.02507085, -0.02507085,\n",
       "       -0.02507085, -0.02507085, -0.02507085, -0.02507085, -0.02507085], dtype=float32)"
      ]
     },
     "execution_count": 9,
     "metadata": {},
     "output_type": "execute_result"
    }
   ],
   "source": []
  },
  {
   "cell_type": "code",
   "execution_count": 9,
   "metadata": {
    "collapsed": false
   },
   "outputs": [],
   "source": [
    "str = dt3.fold(0).tostring()[:10]"
   ]
  },
  {
   "cell_type": "code",
   "execution_count": 39,
   "metadata": {
    "collapsed": false
   },
   "outputs": [
    {
     "data": {
      "text/plain": [
       "'ba\\xcd\\xbcba\\xcd\\xbcba'"
      ]
     },
     "execution_count": 39,
     "metadata": {},
     "output_type": "execute_result"
    }
   ],
   "source": [
    "str"
   ]
  },
  {
   "cell_type": "code",
   "execution_count": 46,
   "metadata": {
    "collapsed": false
   },
   "outputs": [],
   "source": [
    "import numpy as np"
   ]
  },
  {
   "cell_type": "code",
   "execution_count": 53,
   "metadata": {
    "collapsed": false
   },
   "outputs": [],
   "source": [
    "arr = np.array([1,2,3], dtype=np.float32)"
   ]
  },
  {
   "cell_type": "code",
   "execution_count": 61,
   "metadata": {
    "collapsed": false
   },
   "outputs": [
    {
     "data": {
      "text/plain": [
       "'[1.0, 2.0, 3.0]'"
      ]
     },
     "execution_count": 61,
     "metadata": {},
     "output_type": "execute_result"
    }
   ],
   "source": [
    "json.dumps(arr.tolist())"
   ]
  },
  {
   "cell_type": "code",
   "execution_count": 8,
   "metadata": {
    "collapsed": false,
    "scrolled": true
   },
   "outputs": [
    {
     "data": {
      "text/plain": [
       "<matplotlib.image.AxesImage at 0x7fdd460ae990>"
      ]
     },
     "execution_count": 8,
     "metadata": {},
     "output_type": "execute_result"
    },
    {
     "data": {
      "image/png": "[encoded data removed]",
      "text/plain": [
       "<matplotlib.figure.Figure at 0x7fdd4640cf10>"
      ]
     },
     "metadata": {},
     "output_type": "display_data"
    }
   ],
   "source": [
    "plt.imshow(dt3.fold(), cmap=plt.cm.gray)"
   ]
  },
  {
   "cell_type": "code",
   "execution_count": 11,
   "metadata": {
    "collapsed": false
   },
   "outputs": [],
   "source": [
    "import IPython.kernel.comm"
   ]
  },
  {
   "cell_type": "code",
   "execution_count": 29,
   "metadata": {
    "collapsed": false
   },
   "outputs": [
    {
     "data": {
      "text/plain": [
       "<module 'IPython' from '/home/naoki/anaconda/lib/python2.7/site-packages/IPython/__init__.pyc'>"
      ]
     },
     "execution_count": 29,
     "metadata": {},
     "output_type": "execute_result"
    }
   ],
   "source": [
    "IPython"
   ]
  },
  {
   "cell_type": "code",
   "execution_count": 51,
   "metadata": {
    "collapsed": false
   },
   "outputs": [],
   "source": [
    "comm = IPython.kernel.comm.Comm(\"Test\")"
   ]
  },
  {
   "cell_type": "code",
   "execution_count": 55,
   "metadata": {
    "collapsed": false
   },
   "outputs": [],
   "source": [
    "comm.send({\"hoge\": 15})"
   ]
  },
  {
   "cell_type": "code",
   "execution_count": 58,
   "metadata": {
    "collapsed": true
   },
   "outputs": [],
   "source": [
    "def reciever(m):\n",
    "    raise Exception(m)\n",
    "    comm.send({\"hoge\": 15})\n",
    "\n",
    "comm.on_msg(reciever)"
   ]
  },
  {
   "cell_type": "code",
   "execution_count": null,
   "metadata": {
    "collapsed": true
   },
   "outputs": [],
   "source": []
  }
 ],
 "metadata": {
  "kernelspec": {
   "display_name": "Python 2",
   "language": "python",
   "name": "python2"
  },
  "language_info": {
   "codemirror_mode": {
    "name": "ipython",
    "version": 2
   },
   "file_extension": ".py",
   "mimetype": "text/x-python",
   "name": "python",
   "nbconvert_exporter": "python",
   "pygments_lexer": "ipython2",
   "version": "2.7.9"
  }
 },
 "nbformat": 4,
 "nbformat_minor": 0
}
