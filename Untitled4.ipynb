{
 "cells": [
  {
   "cell_type": "code",
   "execution_count": 1,
   "metadata": {
    "collapsed": false
   },
   "outputs": [
    {
     "name": "stdout",
     "output_type": "stream",
     "text": [
      "A\n"
     ]
    },
    {
     "data": {
      "text/plain": [
       "[\"A\"]"
      ]
     },
     "execution_count": 1,
     "metadata": {},
     "output_type": "execute_result"
    }
   ],
   "source": [
    "puts \"A\""
   ]
  },
  {
   "cell_type": "code",
   "execution_count": 2,
   "metadata": {
    "collapsed": false
   },
   "outputs": [
    {
     "name": "stdout",
     "output_type": "stream",
     "text": [
      "\n"
     ]
    }
   ],
   "source": [
    "$stdout.write \"#{nil}\\n\""
   ]
  },
  {
   "cell_type": "code",
   "execution_count": 3,
   "metadata": {
    "collapsed": false
   },
   "outputs": [
    {
     "name": "stdout",
     "output_type": "stream",
     "text": [
      "\n"
     ]
    },
    {
     "data": {
      "text/plain": [
       "[nil]"
      ]
     },
     "execution_count": 3,
     "metadata": {},
     "output_type": "execute_result"
    }
   ],
   "source": [
    "puts"
   ]
  },
  {
   "cell_type": "code",
   "execution_count": 4,
   "metadata": {
    "collapsed": false
   },
   "outputs": [
    {
     "name": "stdout",
     "output_type": "stream",
     "text": [
      "A\n",
      "B\n"
     ]
    },
    {
     "data": {
      "text/plain": [
       "[\"A\", \"B\"]"
      ]
     },
     "execution_count": 4,
     "metadata": {},
     "output_type": "execute_result"
    },
    {
     "name": "stderr",
     "output_type": "stream",
     "text": [
      "/var/lib/gems/2.1.0/gems/ffi-rzmq-2.0.4/lib/ffi-rzmq/socket.rb:584:in `__recvmsg__': Interrupt\n",
      "\tfrom /var/lib/gems/2.1.0/gems/ffi-rzmq-2.0.4/lib/ffi-rzmq/socket.rb:321:in `recvmsg'\n",
      "\tfrom /var/lib/gems/2.1.0/gems/ffi-rzmq-2.0.4/lib/ffi-rzmq/socket.rb:342:in `recv_string'\n",
      "\tfrom /var/lib/gems/2.1.0/gems/iruby-0.1.13/lib/iruby/session.rb:37:in `recv'\n",
      "\tfrom /var/lib/gems/2.1.0/gems/iruby-0.1.13/lib/iruby/kernel.rb:62:in `run'\n",
      "\tfrom /var/lib/gems/2.1.0/gems/iruby-0.1.13/lib/iruby/command.rb:61:in `run_kernel'\n",
      "\tfrom /var/lib/gems/2.1.0/gems/iruby-0.1.13/lib/iruby/command.rb:33:in `run'\n",
      "\tfrom /var/lib/gems/2.1.0/gems/iruby-0.1.13/bin/iruby:6:in `<top (required)>'\n",
      "\tfrom /usr/local/bin/iruby:23:in `load'\n",
      "\tfrom /usr/local/bin/iruby:23:in `<main>'\n"
     ]
    }
   ],
   "source": [
    "puts \"A\", \"B\""
   ]
  },
  {
   "cell_type": "code",
   "execution_count": null,
   "metadata": {
    "collapsed": true
   },
   "outputs": [],
   "source": [
    "$stdou"
   ]
  }
 ],
 "metadata": {
  "kernelspec": {
   "display_name": "Ruby",
   "language": "ruby",
   "name": "ruby"
  },
  "language_info": {
   "name": "ruby",
   "version": "2.1.2"
  }
 },
 "nbformat": 4,
 "nbformat_minor": 0
}
